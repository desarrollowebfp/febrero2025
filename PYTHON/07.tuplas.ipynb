{
 "cells": [
  {
   "cell_type": "markdown",
   "id": "cc07002c",
   "metadata": {},
   "source": [
    "## Tuplas\n"
   ]
  },
  {
   "cell_type": "code",
   "execution_count": 6,
   "id": "c040840f",
   "metadata": {},
   "outputs": [
    {
     "name": "stdout",
     "output_type": "stream",
     "text": [
      "('Spiderman', 'Peter Parker', 'Marvel', 1965)\n",
      "<class 'tuple'>\n",
      "['Capitan America', 'Hulka', 'Iron Man']\n",
      "Batman\n"
     ]
    }
   ],
   "source": [
    "# Declaración\n",
    "ejemplo = (\"Spiderman\", \"Peter Parker\", \"Marvel\", 1965)\n",
    "print(ejemplo)\n",
    "print(type(ejemplo))\n",
    "\n",
    "# Inmutabilidad e indexacion\n",
    "vengadores = [\"Capitan America\", \"Viuda Negra\", \"Iron Man\"]\n",
    "vengadores[1] = \"Hulka\"\n",
    "print(vengadores)\n",
    "\n",
    "liga_justicia = (\"Batman\", \"Superman\", \"Wonderwoman\")\n",
    "print(liga_justicia[0])\n",
    "# X liga_justicia[1] = \"Linterna Verde\""
   ]
  },
  {
   "cell_type": "code",
   "execution_count": 8,
   "id": "ea3d5097",
   "metadata": {},
   "outputs": [
    {
     "name": "stdout",
     "output_type": "stream",
     "text": [
      "<class 'int'>\n",
      "<class 'tuple'>\n"
     ]
    }
   ],
   "source": [
    "# Tupla con un elemento\n",
    "tupla_un_elemento = (30)\n",
    "print(type(tupla_un_elemento))\n",
    "tupla_un_elemento_correcto = (30,)\n",
    "print(type(tupla_un_elemento_correcto))"
   ]
  },
  {
   "cell_type": "code",
   "execution_count": 9,
   "id": "c66af083",
   "metadata": {},
   "outputs": [
    {
     "name": "stdout",
     "output_type": "stream",
     "text": [
      "Superman\n",
      "Wonderwoman\n"
     ]
    }
   ],
   "source": [
    "# Indexacion\n",
    "liga_justicia = (\"Batman\", \"Superman\", \"Wonderwoman\")\n",
    "print(liga_justicia[1])\n",
    "print(liga_justicia[-1])"
   ]
  },
  {
   "cell_type": "code",
   "execution_count": null,
   "id": "ab6f6f18",
   "metadata": {},
   "outputs": [
    {
     "name": "stdout",
     "output_type": "stream",
     "text": [
      "('Batman', 'Linterna Verde', 'Wonderwoman')\n"
     ]
    }
   ],
   "source": [
    "# Saltarse la inmutabilidad\n",
    "liga_justicia = (\"Batman\", \"Superman\", \"Wonderwoman\")\n",
    "# Esto no se puede hacer por la inmutabilidad de las tuplas\n",
    "# liga_justicia[1] = \"Linterna Verde\"\n",
    "lista_justicia_alt = list(liga_justicia)\n",
    "lista_justicia_alt [1]= \"Linterna Verde\"\n",
    "liga_justicia = tuple(lista_justicia_alt)\n",
    "print(liga_justicia)"
   ]
  },
  {
   "cell_type": "code",
   "execution_count": 20,
   "id": "f0a36dcf",
   "metadata": {},
   "outputs": [
    {
     "name": "stdout",
     "output_type": "stream",
     "text": [
      "0\n",
      "2\n",
      "8\n",
      "2\n",
      "8\n"
     ]
    }
   ],
   "source": [
    "# Métodos\n",
    "numeros = (2,3,4,5,6,7,8, 2)\n",
    "print(numeros.index(2))\n",
    "print(numeros.count(2))\n",
    "print(len(numeros))\n",
    "print(min(numeros))\n",
    "print(max(numeros))"
   ]
  },
  {
   "cell_type": "code",
   "execution_count": 27,
   "id": "b7a16ccd",
   "metadata": {},
   "outputs": [
    {
     "name": "stdout",
     "output_type": "stream",
     "text": [
      "Bruce Wayne\n"
     ]
    }
   ],
   "source": [
    "comics = (\n",
    "    (\"Marvel\", \"Spiderman\", \"Peter Parker\"),\n",
    "    (\"DC\", \"Batman\", \"Bruce Wayne\")\n",
    ")\n",
    "\n",
    "print(comics[1][2])"
   ]
  },
  {
   "cell_type": "code",
   "execution_count": 31,
   "id": "d7bc096c",
   "metadata": {},
   "outputs": [
    {
     "name": "stdout",
     "output_type": "stream",
     "text": [
      "1 2 3\n",
      "5 5 5\n",
      "1 2 3\n"
     ]
    }
   ],
   "source": [
    "# Atajos\n",
    "a, b, c = 1, 2, 3\n",
    "print(a,b,c)\n",
    "\n",
    "x = y = z = 5\n",
    "print(x,y,z)\n",
    "\n",
    "d = 1; e=2; f= 3;\n",
    "print(d,e,f)"
   ]
  },
  {
   "cell_type": "code",
   "execution_count": null,
   "id": "b980a78d",
   "metadata": {},
   "outputs": [
    {
     "name": "stdout",
     "output_type": "stream",
     "text": [
      "Conectado al servidor en http://localhost:8080 -> SSL: True\n"
     ]
    }
   ],
   "source": [
    "config_servidor = (\"localhost\", 8080, True)\n",
    "print(f\"Conectado al servidor en http://{config_servidor[0]}:{config_servidor[1]} -> SSL: {config_servidor[2]}\")"
   ]
  }
 ],
 "metadata": {
  "kernelspec": {
   "display_name": "Python 3",
   "language": "python",
   "name": "python3"
  },
  "language_info": {
   "codemirror_mode": {
    "name": "ipython",
    "version": 3
   },
   "file_extension": ".py",
   "mimetype": "text/x-python",
   "name": "python",
   "nbconvert_exporter": "python",
   "pygments_lexer": "ipython3",
   "version": "3.13.7"
  }
 },
 "nbformat": 4,
 "nbformat_minor": 5
}
