{
 "cells": [
  {
   "cell_type": "markdown",
   "id": "0f844c9f",
   "metadata": {},
   "source": [
    "## Operadores Aritméticos\n"
   ]
  },
  {
   "cell_type": "code",
   "execution_count": 36,
   "id": "70232a5a",
   "metadata": {},
   "outputs": [
    {
     "name": "stdout",
     "output_type": "stream",
     "text": [
      "15\n",
      "5\n",
      "50\n",
      "2.0\n",
      "2\n",
      "0\n",
      "100000\n"
     ]
    }
   ],
   "source": [
    "# Operador de asignación\n",
    "a = 10\n",
    "b = 5\n",
    "\n",
    "# Suma\n",
    "print(a + b)\n",
    "# Resta\n",
    "print(a-b)\n",
    "# Multiplcación\n",
    "print(a*b)\n",
    "# División - float\n",
    "print(a/b)\n",
    "# División entera - integer\n",
    "print(a//b)\n",
    "# Módulo\n",
    "print(a%b)\n",
    "# Potencia\n",
    "print(a**b)"
   ]
  },
  {
   "cell_type": "markdown",
   "id": "9a0d54ad",
   "metadata": {},
   "source": [
    "## Concatenaciones\n"
   ]
  },
  {
   "cell_type": "code",
   "execution_count": 37,
   "id": "d780b079",
   "metadata": {},
   "outputs": [
    {
     "name": "stdout",
     "output_type": "stream",
     "text": [
      "Hola Byron\n",
      "Byron tiene 5 años\n"
     ]
    }
   ],
   "source": [
    "saludo = \"Hola\"\n",
    "nombre = \"Byron\"\n",
    "mensaje = saludo + \" \" + nombre\n",
    "print(mensaje)\n",
    "\n",
    "edad = 5\n",
    "segundo_mensaje = nombre + \" tiene \" + str(edad) + \" años\"\n",
    "print(segundo_mensaje)"
   ]
  },
  {
   "cell_type": "markdown",
   "id": "fd368b51",
   "metadata": {},
   "source": [
    "## Operadores de comparación o lógicos\n"
   ]
  },
  {
   "cell_type": "code",
   "execution_count": 38,
   "id": "4abcf909",
   "metadata": {},
   "outputs": [
    {
     "name": "stdout",
     "output_type": "stream",
     "text": [
      "False\n",
      "True\n",
      "False\n",
      "False\n",
      "True\n",
      "True\n",
      "¿Es mayor de edad? False\n"
     ]
    }
   ],
   "source": [
    "x = 10\n",
    "y = 20\n",
    "\n",
    "# Igual que\n",
    "print(x == y)\n",
    "# Distinto que\n",
    "print(x != y)\n",
    "# Mayor que\n",
    "print(x > y)\n",
    "# Mayor o igual que\n",
    "print(x >= y)\n",
    "# Menor que\n",
    "print(x < y)\n",
    "# Menor o igual que\n",
    "print(x <= y)\n",
    "\n",
    "mi_edad = 17\n",
    "print(\"¿Es mayor de edad?\" , mi_edad >= 18)"
   ]
  },
  {
   "cell_type": "markdown",
   "id": "f333974c",
   "metadata": {},
   "source": [
    "## Operadores de comparación o lógicos -> and y or\n"
   ]
  },
  {
   "cell_type": "code",
   "execution_count": 39,
   "id": "fabe0a58",
   "metadata": {},
   "outputs": [
    {
     "name": "stdout",
     "output_type": "stream",
     "text": [
      "False\n"
     ]
    }
   ],
   "source": [
    "nota = 9\n",
    "asistencia = 0.5 # 80%\n",
    "\n",
    "aprobado = (nota >= 5) and (asistencia >= 0.7)\n",
    "print(aprobado)"
   ]
  },
  {
   "cell_type": "markdown",
   "id": "cc4da471",
   "metadata": {},
   "source": [
    "## Operadores de operación y asignación - Combinados\n"
   ]
  },
  {
   "cell_type": "code",
   "execution_count": 40,
   "id": "91105843",
   "metadata": {},
   "outputs": [
    {
     "name": "stdout",
     "output_type": "stream",
     "text": [
      "15\n",
      "30\n",
      "10\n",
      "8\n"
     ]
    }
   ],
   "source": [
    "numero = 10\n",
    "# numero = numero + 5\n",
    "numero += 5\n",
    "print(numero)\n",
    "numero *= 2\n",
    "print(numero)\n",
    "numero //= 3\n",
    "print(numero)\n",
    "numero -= 2\n",
    "print(numero)"
   ]
  },
  {
   "cell_type": "markdown",
   "id": "6b9f50c8",
   "metadata": {},
   "source": [
    "## Conversores de datos\n"
   ]
  },
  {
   "cell_type": "code",
   "execution_count": 46,
   "id": "536f0b13",
   "metadata": {},
   "outputs": [
    {
     "name": "stdout",
     "output_type": "stream",
     "text": [
      "5 <class 'int'>\n",
      "3.4 <class 'float'>\n",
      "10 <class 'str'>\n",
      "True <class 'bool'>\n"
     ]
    }
   ],
   "source": [
    "numero = int(\"5\")\n",
    "print(numero, type(numero))\n",
    "\n",
    "decimal = float(\"3.4\")\n",
    "print(decimal, type(decimal))\n",
    "\n",
    "texto = str(10)\n",
    "print(texto, type(texto))\n",
    "\n",
    "booleano = bool(0.1)\n",
    "print(booleano, type(booleano))"
   ]
  },
  {
   "cell_type": "code",
   "execution_count": null,
   "id": "6450ce40",
   "metadata": {},
   "outputs": [],
   "source": []
  }
 ],
 "metadata": {
  "kernelspec": {
   "display_name": "Python 3",
   "language": "python",
   "name": "python3"
  },
  "language_info": {
   "codemirror_mode": {
    "name": "ipython",
    "version": 3
   },
   "file_extension": ".py",
   "mimetype": "text/x-python",
   "name": "python",
   "nbconvert_exporter": "python",
   "pygments_lexer": "ipython3",
   "version": "3.13.7"
  }
 },
 "nbformat": 4,
 "nbformat_minor": 5
}
