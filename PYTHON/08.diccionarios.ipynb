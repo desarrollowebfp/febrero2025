{
 "cells": [
  {
   "cell_type": "markdown",
   "id": "0fb2d874",
   "metadata": {},
   "source": [
    "## Diccionarios\n"
   ]
  },
  {
   "cell_type": "code",
   "execution_count": null,
   "id": "681e4b1f",
   "metadata": {},
   "outputs": [],
   "source": [
    "# Ejemplo\n",
    "hulk = {\n",
    "    \"nombre\": \"Hulk\",\n",
    "    \"nombre_real\": \"Bruce Banner\",\n",
    "    \"edad\": 45\n",
    "}"
   ]
  },
  {
   "cell_type": "code",
   "execution_count": null,
   "id": "dd475336",
   "metadata": {},
   "outputs": [
    {
     "name": "stdout",
     "output_type": "stream",
     "text": [
      "{'nombre': 'Iron Man', 'nombre_real': 'Tony Stark', 'edad': 50}\n"
     ]
    }
   ],
   "source": [
    "# Creando diccionarios\n",
    "hulk = {\n",
    "    \"nombre\": \"Hulk\",\n",
    "    \"nombre_real\": \"Bruce Banner\",\n",
    "    \"edad\": 45\n",
    "    }\n",
    "\n",
    "ironman = dict(nombre = \"Iron Man\", nombre_real = \"Tony Stark\", edad = 50)\n",
    "print(ironman)"
   ]
  },
  {
   "cell_type": "code",
   "execution_count": 15,
   "id": "c9a148c7",
   "metadata": {},
   "outputs": [
    {
     "name": "stdout",
     "output_type": "stream",
     "text": [
      "Stark\n",
      "{'nombre': 'Iron Man', 'nombre_real': 'Tony Stark', 'edad': 60, 'ciudad': 'Nueva York'}\n",
      "{'nombre': 'Spider-Man', 'nombre_real': 'Peter Parker', 'edad': 25}\n"
     ]
    }
   ],
   "source": [
    "# Indexación\n",
    "# print(ironman[\"apellido\"])\n",
    "print(ironman.get(\"apellido\", \"Stark\"))\n",
    "\n",
    "ironman[\"edad\"] = 60\n",
    "ironman[\"ciudad\"] = \"Nueva York\"\n",
    "print(ironman)\n",
    "\n",
    "# Construcción de diccionario\n",
    "spiderman = {}\n",
    "spiderman[\"nombre\"] = \"Spider-Man\"\n",
    "spiderman[\"nombre_real\"] = \"Peter Parker\"\n",
    "spiderman[\"edad\"] = 25\n",
    "print(spiderman)\n"
   ]
  },
  {
   "cell_type": "code",
   "execution_count": 28,
   "id": "62183b83",
   "metadata": {},
   "outputs": [
    {
     "name": "stdout",
     "output_type": "stream",
     "text": [
      "dict_keys(['nombre', 'nombre_real', 'edad'])\n",
      "nombre\n",
      "dict_values(['Hulk', 'Bruce Banner', 45])\n",
      "dict_items([('nombre', 'Hulk'), ('nombre_real', 'Bruce Banner'), ('edad', 45)])\n",
      "{'nombre': 'Hulk', 'nombre_real': 'Bruce Banner', 'edad': 50, 'ciudad': 'Nueva York', 'color': 'Verde', 'fuerza': 89}\n",
      "{'nombre': 'Hulk', 'nombre_real': 'Bruce Banner', 'edad': 50, 'ciudad': 'Nueva York', 'color': 'Verde', 'fuerza': 89, 'vivo': True}\n",
      "True\n",
      "{'nombre': 'Hulk', 'nombre_real': 'Bruce Banner', 'edad': 50, 'ciudad': 'Nueva York', 'color': 'Verde', 'fuerza': 89}\n",
      "('fuerza', 89)\n",
      "{'nombre': 'Hulk', 'nombre_real': 'Bruce Banner', 'edad': 50, 'ciudad': 'Nueva York', 'color': 'Verde'}\n",
      "{'nombre': 'Paco', 'nombre_real': 'Bruce Banner', 'edad': 50, 'ciudad': 'Nueva York', 'color': 'Verde'}\n",
      "{'nombre': 'Hulk', 'nombre_real': 'Bruce Banner', 'edad': 50, 'ciudad': 'Nueva York', 'color': 'Verde'}\n",
      "{}\n"
     ]
    }
   ],
   "source": [
    "# Métodos\n",
    "\n",
    "hulk = {\n",
    "    \"nombre\": \"Hulk\",\n",
    "    \"nombre_real\": \"Bruce Banner\",\n",
    "    \"edad\": 45\n",
    "    }\n",
    "## Keys -> Devuelve una vista de todas las claves del diccionario\n",
    "print(hulk.keys())\n",
    "hulk_claves = list(hulk.keys())\n",
    "print(hulk_claves[0])\n",
    "\n",
    "## Values -> Devuelve una vista de todos los valores\n",
    "print(hulk.values())\n",
    "\n",
    "## Items -> Devuelve pares de clave y valor como tuplas dentro de una vista -> Esto es una de las mejores formas de manipular masivamente el contenido de un diccionario\n",
    "print(hulk.items())\n",
    "\n",
    "## Update -> Recibe por argumento otro diccionario y actualiza el actual\n",
    "hulk_dos = {\n",
    "    \"ciudad\":\"Nueva York\",\n",
    "    \"color\": \"Verde\",\n",
    "    \"fuerza\": 89,\n",
    "    \"edad\": 50\n",
    "}\n",
    "hulk.update(hulk_dos)\n",
    "print(hulk)\n",
    "\n",
    "## Set default -> Devuelve el valor de una clave si existe, y si no existe la crea con el valor por defecto indicado\n",
    "hulk.setdefault(\"vivo\", True)\n",
    "print(hulk)\n",
    "\n",
    "## Pop -> Elimina un elemento mediante su clave y te devuelve su valor y si no existe arroja error\n",
    "print(hulk.pop(\"vivo\"))\n",
    "print(hulk)\n",
    "\n",
    "## Popitem -> Elimina y devuelve el último par de clave y valor insertado en forma de tupla\n",
    "print(hulk.popitem())\n",
    "print(hulk)\n",
    "\n",
    "## Copy -> Devuelve una copia superficial\n",
    "copia_hulk = hulk.copy()\n",
    "copia_hulk[\"nombre\"] = \"Paco\"\n",
    "print(copia_hulk)\n",
    "print(hulk)\n",
    "\n",
    "## Clear -> Limpia el diccionario de claves y valores\n",
    "hulk.clear()\n",
    "print(hulk)\n"
   ]
  },
  {
   "cell_type": "code",
   "execution_count": 29,
   "id": "afb67462",
   "metadata": {},
   "outputs": [
    {
     "name": "stdout",
     "output_type": "stream",
     "text": [
      "Krypton\n"
     ]
    }
   ],
   "source": [
    "## Diccionarios anidados\n",
    "liga_justicia = {\n",
    "    \"Superman\": {\"poder\": \"Superfuerza\", \"origen\": \"Krypton\"},\n",
    "    \"Wonder Woman\": {\"poder\": \"Fuerza divina\", \"origen\": \"Temiscira\"},\n",
    "    \"Flash\": {\"poder\": \"Velocidad\", \"origen\": \"Central City\"}\n",
    "}\n",
    "\n",
    "print(liga_justicia[\"Superman\"][\"origen\"])"
   ]
  }
 ],
 "metadata": {
  "kernelspec": {
   "display_name": "Python 3",
   "language": "python",
   "name": "python3"
  },
  "language_info": {
   "codemirror_mode": {
    "name": "ipython",
    "version": 3
   },
   "file_extension": ".py",
   "mimetype": "text/x-python",
   "name": "python",
   "nbconvert_exporter": "python",
   "pygments_lexer": "ipython3",
   "version": "3.13.7"
  }
 },
 "nbformat": 4,
 "nbformat_minor": 5
}
