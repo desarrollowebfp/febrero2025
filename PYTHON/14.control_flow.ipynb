{
 "cells": [
  {
   "cell_type": "markdown",
   "id": "83d48e86",
   "metadata": {},
   "source": [
    "## Control Flow\n"
   ]
  },
  {
   "cell_type": "code",
   "execution_count": null,
   "id": "b1784938",
   "metadata": {},
   "outputs": [
    {
     "name": "stdout",
     "output_type": "stream",
     "text": [
      "10\n",
      "25\n",
      "1\n",
      "3\n",
      "Encontrado\n",
      "No he encontrado el nombre\n"
     ]
    }
   ],
   "source": [
    "# break -> termina el bucle\n",
    "# continue -> rompo la vuelta actual pero continuo con las siguientes\n",
    "# pass -> no hacer nada (solo ocupo sitio)\n",
    "# else -> se ejecuta en el caso en el que terminamos un bucle sin forzarlo con break\n",
    "\n",
    "# break\n",
    "numeros = [2,4,4,5,6]\n",
    "suma = 0\n",
    "for n in numeros:\n",
    "    if(n % 2 != 0): # Si es impar\n",
    "        break\n",
    "    suma += n\n",
    "    \n",
    "print(suma)\n",
    "\n",
    "# continue\n",
    "suma_impares = 0\n",
    "for n in range(1, 11):\n",
    "    if(n % 2 == 0):\n",
    "        continue # si es par, salto a la siguiente vuelta\n",
    "    suma_impares += n\n",
    "print(suma_impares)\n",
    "\n",
    "# pass\n",
    "for n in [1,2,3]:\n",
    "    if(n == 2):\n",
    "        pass  # Luego decidiré que hacer en este caso en el que se cumple la condición\n",
    "    else:\n",
    "        print(n)\n",
    "        \n",
    "# else\n",
    "\n",
    "nombres = [\"David\", \"Jorge\", \"Carlos\", \"Gonzalo\"]\n",
    "\n",
    "for nombre in nombres:\n",
    "    if(nombre == \"David\"):\n",
    "        print(\"Encontrado\")\n",
    "        break\n",
    "else:\n",
    "    print(\"No he encontrado el nombre\") \n",
    "    \n",
    "    # Si no se ha topado con ningún break y ha terminado el bucle sin cumplir la condición, puedo tener un bloque de ejecución en el último"
   ]
  }
 ],
 "metadata": {
  "kernelspec": {
   "display_name": "Python 3",
   "language": "python",
   "name": "python3"
  },
  "language_info": {
   "codemirror_mode": {
    "name": "ipython",
    "version": 3
   },
   "file_extension": ".py",
   "mimetype": "text/x-python",
   "name": "python",
   "nbconvert_exporter": "python",
   "pygments_lexer": "ipython3",
   "version": "3.13.7"
  }
 },
 "nbformat": 4,
 "nbformat_minor": 5
}
