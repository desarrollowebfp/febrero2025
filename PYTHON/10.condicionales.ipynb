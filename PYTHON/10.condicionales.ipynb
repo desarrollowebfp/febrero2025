{
 "cells": [
  {
   "cell_type": "markdown",
   "id": "12eef9c8",
   "metadata": {},
   "source": [
    "## Condicionales\n"
   ]
  },
  {
   "cell_type": "code",
   "execution_count": 11,
   "id": "940272e6",
   "metadata": {},
   "outputs": [
    {
     "name": "stdout",
     "output_type": "stream",
     "text": [
      "Abrimos la sala de cine\n"
     ]
    }
   ],
   "source": [
    "# if condicion:\n",
    "    # bloque de ejecución\n",
    "    \n",
    "espectadores = 10\n",
    "\n",
    "if espectadores > 0:\n",
    "    print(\"Abrimos la sala de cine\")        "
   ]
  },
  {
   "cell_type": "code",
   "execution_count": 12,
   "id": "ec5275cc",
   "metadata": {},
   "outputs": [
    {
     "name": "stdout",
     "output_type": "stream",
     "text": [
      "Abrimos la sala de cine\n"
     ]
    }
   ],
   "source": [
    "espectadores = 10\n",
    "\n",
    "if espectadores > 0:\n",
    "    print(\"Abrimos la sala de cine\")\n",
    "else:\n",
    "    print(\"No abrimos la sala\")"
   ]
  },
  {
   "cell_type": "code",
   "execution_count": 13,
   "id": "768246ed",
   "metadata": {},
   "outputs": [
    {
     "name": "stdout",
     "output_type": "stream",
     "text": [
      "Muy buena\n"
     ]
    }
   ],
   "source": [
    "puntuacion = 8\n",
    "\n",
    "if puntuacion >= 9:\n",
    "    print(\"Obra maestra\")\n",
    "elif puntuacion >= 7:\n",
    "    print(\"Muy buena\")\n",
    "elif puntuacion >= 5:\n",
    "    print(\"Aceptable\")\n",
    "else:\n",
    "    print(\"Floja\")"
   ]
  },
  {
   "cell_type": "code",
   "execution_count": 14,
   "id": "fd770da0",
   "metadata": {},
   "outputs": [
    {
     "name": "stdout",
     "output_type": "stream",
     "text": [
      "Sesion especial de tarde\n"
     ]
    }
   ],
   "source": [
    "dia = \"viernes\"\n",
    "hora = 17\n",
    "\n",
    "if dia == \"viernes\" and hora >= 15:\n",
    "    print(\"Sesion especial de tarde\")\n",
    "elif dia == \"sabado\" or dia == \"domingo\":\n",
    "    print(\"Es fin de semana, sesiones todo el dia\")\n",
    "else:\n",
    "    print(\"Horario de semana normal\")"
   ]
  },
  {
   "cell_type": "code",
   "execution_count": 18,
   "id": "6d85122e",
   "metadata": {},
   "outputs": [
    {
     "name": "stdout",
     "output_type": "stream",
     "text": [
      "Jugador 1 gana - J1 piedra - J2 tijera\n"
     ]
    }
   ],
   "source": [
    "import random\n",
    "\n",
    "opciones = [\"piedra\", \"papel\", \"tijera\"]\n",
    "\n",
    "jugador1 = input(\"Jugador 1: piedra - papel - tijera\")\n",
    "jugador2 = random.choice(opciones)\n",
    "\n",
    "if(jugador1 == \"piedra\" and jugador2 == \"tijera\"):\n",
    "    print(f\"Jugador 1 gana - J1 {jugador1} - J2 {jugador2}\")\n",
    "elif(jugador1 == \"papel\" and jugador2 == \"piedra\"):\n",
    "    print(f\"Jugador 1 gana - J1 {jugador1} - J2 {jugador2}\")\n",
    "elif(jugador1 == \"tijera\" and jugador2 == \"papel\"):\n",
    "    print(f\"Jugador 1 gana - J1 {jugador1} - J2 {jugador2}\")\n",
    "elif(jugador1 == jugador2):\n",
    "    print(f\"Empate - J1 {jugador1} - J2 {jugador2}\")\n",
    "else:\n",
    "    print(f\"Jugador 2 gana - J1 {jugador1} - J2 {jugador2}\")\n"
   ]
  }
 ],
 "metadata": {
  "kernelspec": {
   "display_name": "Python 3",
   "language": "python",
   "name": "python3"
  },
  "language_info": {
   "codemirror_mode": {
    "name": "ipython",
    "version": 3
   },
   "file_extension": ".py",
   "mimetype": "text/x-python",
   "name": "python",
   "nbconvert_exporter": "python",
   "pygments_lexer": "ipython3",
   "version": "3.13.7"
  }
 },
 "nbformat": 4,
 "nbformat_minor": 5
}
