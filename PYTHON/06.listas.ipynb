{
 "cells": [
  {
   "cell_type": "markdown",
   "id": "09abbd5b",
   "metadata": {},
   "source": [
    "## Listas\n"
   ]
  },
  {
   "cell_type": "code",
   "execution_count": 5,
   "id": "0a78ec0b",
   "metadata": {},
   "outputs": [
    {
     "name": "stdout",
     "output_type": "stream",
     "text": [
      "['Iron man', 'Spiderman', 'Hulk', 42, True]\n",
      "Iron man\n",
      "5\n"
     ]
    }
   ],
   "source": [
    "lista = [\"Iron man\", \"Spiderman\", \"Hulk\", 42, True]\n",
    "print(lista)\n",
    "print(lista[0])\n",
    "print(len(lista))"
   ]
  },
  {
   "cell_type": "code",
   "execution_count": 7,
   "id": "1bc3d8d1",
   "metadata": {},
   "outputs": [
    {
     "name": "stdout",
     "output_type": "stream",
     "text": [
      "Spiderman\n"
     ]
    }
   ],
   "source": [
    "## Listas anidadas\n",
    "marvel = [\n",
    "    [\"Ciclope\", \"Wolverine\", \"Fenix\"],\n",
    "    [\"Iron Man\", \"Spiderman\", \"Ojo de Halcón\"],\n",
    "    [\"Daredevil\", \"Punisher\", \"Elektra\"]\n",
    "]\n",
    "\n",
    "print(marvel[1][1])"
   ]
  },
  {
   "cell_type": "code",
   "execution_count": null,
   "id": "098e1b83",
   "metadata": {},
   "outputs": [],
   "source": [
    "## Métodos\n"
   ]
  }
 ],
 "metadata": {
  "kernelspec": {
   "display_name": "Python 3",
   "language": "python",
   "name": "python3"
  },
  "language_info": {
   "codemirror_mode": {
    "name": "ipython",
    "version": 3
   },
   "file_extension": ".py",
   "mimetype": "text/x-python",
   "name": "python",
   "nbconvert_exporter": "python",
   "pygments_lexer": "ipython3",
   "version": "3.13.7"
  }
 },
 "nbformat": 4,
 "nbformat_minor": 5
}
