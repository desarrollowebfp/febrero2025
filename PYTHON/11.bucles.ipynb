{
 "cells": [
  {
   "cell_type": "markdown",
   "id": "dea48432",
   "metadata": {},
   "source": [
    "## Bucles\n"
   ]
  },
  {
   "cell_type": "code",
   "execution_count": null,
   "id": "87e5a1b4",
   "metadata": {},
   "outputs": [
    {
     "name": "stdout",
     "output_type": "stream",
     "text": [
      "Hoy es lunes\n",
      "Hoy es martes\n",
      "Hoy es miercoles\n",
      "Hoy es jueves\n",
      "Hoy es viernes\n",
      "Hoy es sabado\n",
      "Hoy es domingo\n"
     ]
    }
   ],
   "source": [
    "dias_semana = [\"lunes\", \"martes\", \"miercoles\", \"jueves\", \"viernes\", \"sabado\", \"domingo\"]\n",
    "\n",
    "for dia in dias_semana:\n",
    "    print(f\"Hoy es {dia}\")"
   ]
  },
  {
   "cell_type": "code",
   "execution_count": 2,
   "id": "b2780faf",
   "metadata": {},
   "outputs": [
    {
     "name": "stdout",
     "output_type": "stream",
     "text": [
      "['LUNES', 'MARTES', 'MIERCOLES', 'JUEVES', 'VIERNES', 'SABADO', 'DOMINGO']\n"
     ]
    }
   ],
   "source": [
    "dias_semana = [\"lunes\", \"martes\", \"miercoles\", \"jueves\", \"viernes\", \"sabado\", \"domingo\"]\n",
    "\n",
    "dias_semana_mayus = []\n",
    "\n",
    "for dia in dias_semana:\n",
    "    dias_semana_mayus.append(dia.upper())\n",
    "    \n",
    "print(dias_semana_mayus)"
   ]
  },
  {
   "cell_type": "code",
   "execution_count": 3,
   "id": "90d44415",
   "metadata": {},
   "outputs": [
    {
     "name": "stdout",
     "output_type": "stream",
     "text": [
      "2\n",
      "4\n",
      "6\n",
      "8\n",
      "10\n"
     ]
    }
   ],
   "source": [
    "numeros = [1,2,3,4,5,6,7,8,9,10]\n",
    "\n",
    "for num in numeros:\n",
    "    if num % 2 == 0:\n",
    "        print(num)"
   ]
  },
  {
   "cell_type": "code",
   "execution_count": 5,
   "id": "15cb667a",
   "metadata": {},
   "outputs": [
    {
     "name": "stdout",
     "output_type": "stream",
     "text": [
      "La posición 0 tiene el elemento rojo\n",
      "La posición 1 tiene el elemento verde\n",
      "La posición 2 tiene el elemento azul\n"
     ]
    }
   ],
   "source": [
    "colores = [\"rojo\", \"verde\", \"azul\"]\n",
    "\n",
    "for i in range(len(colores)):\n",
    "    color = colores[i]\n",
    "    print(f\"La posición {i} tiene el elemento {color}\")"
   ]
  },
  {
   "cell_type": "code",
   "execution_count": 7,
   "id": "26a9e90e",
   "metadata": {},
   "outputs": [
    {
     "name": "stdout",
     "output_type": "stream",
     "text": [
      "['ciencia ficción', 'acción', 'drama', 'fantasía']\n"
     ]
    }
   ],
   "source": [
    "categorias = (\"ciencia ficción\", \"acción\", \"drama\", \"fantasía\")\n",
    "categorias_lista = []\n",
    "\n",
    "for categoria in categorias:\n",
    "   categorias_lista.append(categoria)\n",
    "   \n",
    "print(categorias_lista)"
   ]
  },
  {
   "cell_type": "code",
   "execution_count": 12,
   "id": "7cf571ad",
   "metadata": {},
   "outputs": [
    {
     "name": "stdout",
     "output_type": "stream",
     "text": [
      "title\n",
      "year\n",
      "director\n",
      "duration\n",
      "The Batman\n",
      "2022\n",
      "Matt Reeves\n",
      "190\n",
      "dict_items([('title', 'The Batman'), ('year', 2022), ('director', 'Matt Reeves'), ('duration', 190)])\n",
      "La clave title tiene el valor The Batman\n",
      "La clave year tiene el valor 2022\n",
      "La clave director tiene el valor Matt Reeves\n",
      "La clave duration tiene el valor 190\n"
     ]
    }
   ],
   "source": [
    "movie = {\n",
    "    \"title\": \"The Batman\",\n",
    "    \"year\": 2022,\n",
    "    \"director\": \"Matt Reeves\",\n",
    "    \"duration\": 190\n",
    "}\n",
    "\n",
    "for key in movie:\n",
    "    print(key)\n",
    "    \n",
    "for value in movie.values():\n",
    "    print(value)\n",
    "    \n",
    "## Podemos declarar en un bucle varios valores iterando estructuras diferentes\n",
    "print(movie.items())\n",
    "\n",
    "for clave, valor in movie.items():\n",
    "    print(f\"La clave {clave} tiene el valor {valor}\")"
   ]
  },
  {
   "cell_type": "code",
   "execution_count": 16,
   "id": "bdeb58cd",
   "metadata": {},
   "outputs": [
    {
     "name": "stdout",
     "output_type": "stream",
     "text": [
      "La estacion primavera tiene la posicion 0\n",
      "La estacion verano tiene la posicion 1\n",
      "La estacion otoño tiene la posicion 2\n",
      "La estacion invierno tiene la posicion 3\n"
     ]
    }
   ],
   "source": [
    "estaciones = [\"primavera\", \"verano\", \"otoño\", \"invierno\"]\n",
    "\n",
    "for i, estacion in enumerate(estaciones):\n",
    "    print(f\"La estacion {estacion} tiene la posicion {i}\")\n",
    "\n"
   ]
  },
  {
   "cell_type": "markdown",
   "id": "d07dd839",
   "metadata": {},
   "source": []
  }
 ],
 "metadata": {
  "kernelspec": {
   "display_name": "Python 3",
   "language": "python",
   "name": "python3"
  },
  "language_info": {
   "codemirror_mode": {
    "name": "ipython",
    "version": 3
   },
   "file_extension": ".py",
   "mimetype": "text/x-python",
   "name": "python",
   "nbconvert_exporter": "python",
   "pygments_lexer": "ipython3",
   "version": "3.13.7"
  }
 },
 "nbformat": 4,
 "nbformat_minor": 5
}
