{
 "cells": [
  {
   "cell_type": "markdown",
   "id": "06109abd",
   "metadata": {},
   "source": [
    "## Funciones built-in\n"
   ]
  },
  {
   "cell_type": "code",
   "execution_count": 36,
   "id": "ec546414",
   "metadata": {},
   "outputs": [
    {
     "name": "stdout",
     "output_type": "stream",
     "text": [
      "Hola a todo el mundo\n",
      "Tengo 20 años\n"
     ]
    }
   ],
   "source": [
    "# 1. Print\n",
    "print(\"Hola a todo el mundo\")\n",
    "print(\"Tengo\", 20, \"años\")"
   ]
  },
  {
   "cell_type": "code",
   "execution_count": 37,
   "id": "4c10d98f",
   "metadata": {},
   "outputs": [
    {
     "name": "stdout",
     "output_type": "stream",
     "text": [
      "4\n",
      "3\n"
     ]
    }
   ],
   "source": [
    "# 2. Len\n",
    "saludo = \"Hola\"\n",
    "print(len(saludo))\n",
    "print(len([\"a\", \"b\", \"c\"]))"
   ]
  },
  {
   "cell_type": "code",
   "execution_count": 38,
   "id": "101b7231",
   "metadata": {},
   "outputs": [
    {
     "name": "stdout",
     "output_type": "stream",
     "text": [
      "<class 'str'>\n",
      "<class 'bool'>\n",
      "<class 'int'>\n"
     ]
    }
   ],
   "source": [
    "# 3. Type\n",
    "print(type(\"Hola\"))\n",
    "print(type(True))\n",
    "print(type(25))"
   ]
  },
  {
   "cell_type": "code",
   "execution_count": 39,
   "id": "04dec253",
   "metadata": {},
   "outputs": [
    {
     "name": "stdout",
     "output_type": "stream",
     "text": [
      "Help on built-in function len in module builtins:\n",
      "\n",
      "len(obj, /)\n",
      "    Return the number of items in a container.\n",
      "\n",
      "Help on built-in function upper:\n",
      "\n",
      "upper() method of builtins.str instance\n",
      "    Return a copy of the string converted to uppercase.\n",
      "\n",
      "['__add__', '__class__', '__contains__', '__delattr__', '__dir__', '__doc__', '__eq__', '__format__', '__ge__', '__getattribute__', '__getitem__', '__getnewargs__', '__getstate__', '__gt__', '__hash__', '__init__', '__init_subclass__', '__iter__', '__le__', '__len__', '__lt__', '__mod__', '__mul__', '__ne__', '__new__', '__reduce__', '__reduce_ex__', '__repr__', '__rmod__', '__rmul__', '__setattr__', '__sizeof__', '__str__', '__subclasshook__', 'capitalize', 'casefold', 'center', 'count', 'encode', 'endswith', 'expandtabs', 'find', 'format', 'format_map', 'index', 'isalnum', 'isalpha', 'isascii', 'isdecimal', 'isdigit', 'isidentifier', 'islower', 'isnumeric', 'isprintable', 'isspace', 'istitle', 'isupper', 'join', 'ljust', 'lower', 'lstrip', 'maketrans', 'partition', 'removeprefix', 'removesuffix', 'replace', 'rfind', 'rindex', 'rjust', 'rpartition', 'rsplit', 'rstrip', 'split', 'splitlines', 'startswith', 'strip', 'swapcase', 'title', 'translate', 'upper', 'zfill']\n"
     ]
    }
   ],
   "source": [
    "# 4. Help y Dir\n",
    "texto = \"Adios\"\n",
    "\n",
    "help(len)\n",
    "help(texto.upper)\n",
    "\n",
    "# Si le hacéis un bucle a dir(texto) veréis los métodos en lista vertical\n",
    "print(dir(texto))"
   ]
  },
  {
   "cell_type": "code",
   "execution_count": 41,
   "id": "1bcafa47",
   "metadata": {},
   "outputs": [
    {
     "name": "stdout",
     "output_type": "stream",
     "text": [
      "<class 'str'>\n",
      "<class 'int'>\n",
      "<class 'float'>\n",
      "<class 'str'>\n",
      "False\n",
      "True\n"
     ]
    }
   ],
   "source": [
    "# 5. Conversión de tipo de dato\n",
    "\n",
    "numero_en_string = \"123\"\n",
    "print(type(numero_en_string))\n",
    "numero_convertido = int(numero_en_string)\n",
    "print(type(numero_convertido))\n",
    "\n",
    "print(type(float(\"15.5\")))\n",
    "print(type(str(787))) # \"787\"\n",
    "print(bool(0))\n",
    "print(bool(1))"
   ]
  },
  {
   "cell_type": "code",
   "execution_count": 46,
   "id": "386a27c4",
   "metadata": {},
   "outputs": [
    {
     "name": "stdout",
     "output_type": "stream",
     "text": [
      "40\n",
      "3\n",
      "3.142\n",
      "7\n"
     ]
    }
   ],
   "source": [
    "# 6. Funciones con números\n",
    "print(max(9,8,5,4,40,3,23))\n",
    "print(min(9,8,5,4,40,3,23))\n",
    "print(round(3.141516, 3))\n",
    "print(abs(-7))\n"
   ]
  },
  {
   "cell_type": "code",
   "execution_count": 49,
   "id": "4b568f06",
   "metadata": {},
   "outputs": [
    {
     "name": "stdout",
     "output_type": "stream",
     "text": [
      "52\n",
      "[3, 5, 5, 8, 9, 10, 12]\n",
      "[3, 8, 5, 12, 10, 5, 9]\n"
     ]
    }
   ],
   "source": [
    "# 7. Funciones de listas\n",
    "numeros = [9,5,10,12,5,8,3]\n",
    "print(sum(numeros))\n",
    "print(sorted(numeros))\n",
    "print(list(reversed(numeros)))\n"
   ]
  },
  {
   "cell_type": "code",
   "execution_count": 54,
   "id": "8459597d",
   "metadata": {},
   "outputs": [
    {
     "name": "stdout",
     "output_type": "stream",
     "text": [
      "El usuario se llama: \n"
     ]
    },
    {
     "ename": "ValueError",
     "evalue": "invalid literal for int() with base 10: ''",
     "output_type": "error",
     "traceback": [
      "\u001b[31m---------------------------------------------------------------------------\u001b[39m",
      "\u001b[31mValueError\u001b[39m                                Traceback (most recent call last)",
      "\u001b[36mCell\u001b[39m\u001b[36m \u001b[39m\u001b[32mIn[54]\u001b[39m\u001b[32m, line 5\u001b[39m\n\u001b[32m      2\u001b[39m nombre = \u001b[38;5;28minput\u001b[39m(\u001b[33m\"\u001b[39m\u001b[33m¿Como te llamas?\u001b[39m\u001b[33m\"\u001b[39m)\n\u001b[32m      3\u001b[39m \u001b[38;5;28mprint\u001b[39m(\u001b[33m\"\u001b[39m\u001b[33mEl usuario se llama:\u001b[39m\u001b[33m\"\u001b[39m, nombre)\n\u001b[32m----> \u001b[39m\u001b[32m5\u001b[39m edad = \u001b[38;5;28;43mint\u001b[39;49m\u001b[43m(\u001b[49m\u001b[38;5;28;43minput\u001b[39;49m\u001b[43m(\u001b[49m\u001b[33;43m\"\u001b[39;49m\u001b[33;43m¿Cual es tu edad actual?\u001b[39;49m\u001b[33;43m\"\u001b[39;49m\u001b[43m)\u001b[49m\u001b[43m)\u001b[49m\n\u001b[32m      6\u001b[39m \u001b[38;5;28mprint\u001b[39m(\u001b[33m\"\u001b[39m\u001b[33mEl año que viene tendrás:\u001b[39m\u001b[33m\"\u001b[39m, edad + \u001b[32m1\u001b[39m)\n",
      "\u001b[31mValueError\u001b[39m: invalid literal for int() with base 10: ''"
     ]
    }
   ],
   "source": [
    "# 8. Entrada de datos\n",
    "nombre = input(\"¿Como te llamas?\")\n",
    "print(\"El usuario se llama:\", nombre)\n",
    "\n",
    "edad = int(input(\"¿Cual es tu edad actual?\"))\n",
    "print(\"El año que viene tendrás:\", edad + 1)"
   ]
  },
  {
   "cell_type": "code",
   "execution_count": 56,
   "id": "37b35708",
   "metadata": {},
   "outputs": [
    {
     "name": "stdout",
     "output_type": "stream",
     "text": [
      "True\n",
      "True\n",
      "False\n"
     ]
    }
   ],
   "source": [
    "# 9. Funciones logicas\n",
    "print(any([0,87,0]))\n",
    "print(all([1,1,1]))\n",
    "print(all([1,0,1]))"
   ]
  }
 ],
 "metadata": {
  "kernelspec": {
   "display_name": "Python 3",
   "language": "python",
   "name": "python3"
  },
  "language_info": {
   "codemirror_mode": {
    "name": "ipython",
    "version": 3
   },
   "file_extension": ".py",
   "mimetype": "text/x-python",
   "name": "python",
   "nbconvert_exporter": "python",
   "pygments_lexer": "ipython3",
   "version": "3.13.7"
  }
 },
 "nbformat": 4,
 "nbformat_minor": 5
}
