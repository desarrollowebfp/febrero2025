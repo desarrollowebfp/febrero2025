{
 "cells": [
  {
   "cell_type": "markdown",
   "id": "7665a819",
   "metadata": {},
   "source": [
    "## Indexación de strings\n"
   ]
  },
  {
   "cell_type": "code",
   "execution_count": 28,
   "id": "582417ca",
   "metadata": {},
   "outputs": [
    {
     "name": "stdout",
     "output_type": "stream",
     "text": [
      "P\n",
      "r\n",
      "o\n",
      "P\n"
     ]
    }
   ],
   "source": [
    "palabra = \"Perro\"\n",
    "# Indices positivos\n",
    "print(palabra[0])\n",
    "print(palabra[3])\n",
    "# Indices negativos\n",
    "print(palabra[-1])\n",
    "print(palabra[-5])"
   ]
  },
  {
   "cell_type": "markdown",
   "id": "539a6550",
   "metadata": {},
   "source": [
    "## Rangos de indexación\n"
   ]
  },
  {
   "cell_type": "code",
   "execution_count": 29,
   "id": "c26eb820",
   "metadata": {},
   "outputs": [
    {
     "name": "stdout",
     "output_type": "stream",
     "text": [
      "oog\n",
      "Goog\n",
      "Meets\n",
      "Gol\n",
      "steeM elgooG\n"
     ]
    }
   ],
   "source": [
    "# string[start:stop:step]\n",
    "texto = \"Google Meets\"\n",
    "\n",
    "print(texto[1:4])\n",
    "print(texto[:4])\n",
    "print(texto[7:])\n",
    "print(texto[0:6:2])\n",
    "print(texto[::-1])"
   ]
  },
  {
   "cell_type": "markdown",
   "id": "25b3d0c5",
   "metadata": {},
   "source": [
    "# Métodos de string\n"
   ]
  },
  {
   "cell_type": "code",
   "execution_count": null,
   "id": "1c6fc785",
   "metadata": {},
   "outputs": [
    {
     "name": "stdout",
     "output_type": "stream",
     "text": [
      "star wars\n",
      "STAR WARS\n",
      "El Caballero Oscuro\n",
      "El caballero oscuro\n",
      "Cantando bajo la lluvia\n",
      " Cantando bajo la luna     \n",
      "-1\n",
      "Perro | Gato | Loro | Ciervo\n"
     ]
    }
   ],
   "source": [
    "pelicula = \"Star Wars\"\n",
    "print(pelicula.lower())\n",
    "print(pelicula.upper())\n",
    "\n",
    "pelicula = \"el caballero oscuro\"\n",
    "print(pelicula.title())\n",
    "print(pelicula.capitalize())\n",
    "\n",
    "pelicula = \" Cantando bajo la lluvia     \"\n",
    "print(pelicula.strip())\n",
    "print(pelicula.replace(\"lluvia\", \"luna\"))\n",
    "print(pelicula.find(\"perro\"))\n",
    "#print(pelicula.index(\"perro\"))\n",
    "\n",
    "lista = [\"Perro\", \"Gato\", \"Loro\", \"Ciervo\"]\n",
    "print(\", \".join(lista))\n"
   ]
  },
  {
   "cell_type": "code",
   "execution_count": null,
   "id": "5b82cc67",
   "metadata": {},
   "outputs": [],
   "source": []
  }
 ],
 "metadata": {
  "kernelspec": {
   "display_name": "Python 3",
   "language": "python",
   "name": "python3"
  },
  "language_info": {
   "codemirror_mode": {
    "name": "ipython",
    "version": 3
   },
   "file_extension": ".py",
   "mimetype": "text/x-python",
   "name": "python",
   "nbconvert_exporter": "python",
   "pygments_lexer": "ipython3",
   "version": "3.13.7"
  }
 },
 "nbformat": 4,
 "nbformat_minor": 5
}
