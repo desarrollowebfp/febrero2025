{
 "cells": [
  {
   "cell_type": "markdown",
   "id": "2b53fb74",
   "metadata": {},
   "source": [
    "## Ejemplos de funciones built-in #2\n"
   ]
  },
  {
   "cell_type": "code",
   "execution_count": 3,
   "id": "a4a7bd75",
   "metadata": {},
   "outputs": [
    {
     "name": "stdout",
     "output_type": "stream",
     "text": [
      "0\n",
      "1\n",
      "2\n",
      "3\n",
      "4\n"
     ]
    }
   ],
   "source": [
    "# range\n",
    "for n in range(5):\n",
    "    print(n)"
   ]
  },
  {
   "cell_type": "code",
   "execution_count": 4,
   "id": "652e84b2",
   "metadata": {},
   "outputs": [
    {
     "name": "stdout",
     "output_type": "stream",
     "text": [
      "1\n",
      "2\n",
      "3\n",
      "4\n",
      "5\n"
     ]
    }
   ],
   "source": [
    "for n in range(1, 6):\n",
    "    print(n)"
   ]
  },
  {
   "cell_type": "code",
   "execution_count": 9,
   "id": "1ce0387a",
   "metadata": {},
   "outputs": [
    {
     "name": "stdout",
     "output_type": "stream",
     "text": [
      "0\n",
      "2\n",
      "4\n",
      "6\n",
      "8\n"
     ]
    }
   ],
   "source": [
    "for n in range(0, 10, 2):\n",
    "    print(n)"
   ]
  },
  {
   "cell_type": "code",
   "execution_count": 10,
   "id": "8f60a7c9",
   "metadata": {},
   "outputs": [
    {
     "name": "stdout",
     "output_type": "stream",
     "text": [
      "5\n",
      "4\n",
      "3\n",
      "2\n",
      "1\n"
     ]
    }
   ],
   "source": [
    "for n in range(5, 0, -1):\n",
    "    print(n)"
   ]
  },
  {
   "cell_type": "code",
   "execution_count": 13,
   "id": "d065550f",
   "metadata": {},
   "outputs": [
    {
     "name": "stdout",
     "output_type": "stream",
     "text": [
      "[2, 4, 6, 8, 10, 12, 14, 16, 18, 20, 22, 24, 26, 28, 30, 32, 34, 36, 38, 40, 42, 44, 46, 48, 50, 52, 54, 56, 58, 60, 62, 64, 66, 68, 70, 72, 74, 76, 78, 80, 82, 84, 86, 88, 90, 92, 94, 96, 98]\n"
     ]
    }
   ],
   "source": [
    "lista_numeros = []\n",
    "for n in range(2, 100, 2):\n",
    "    lista_numeros.append(n)\n",
    "    \n",
    "print(lista_numeros)"
   ]
  },
  {
   "cell_type": "code",
   "execution_count": null,
   "id": "0281049f",
   "metadata": {},
   "outputs": [
    {
     "name": "stdout",
     "output_type": "stream",
     "text": [
      "En la posicion 0 se encuentra la fruta manzana\n",
      "En la posicion 1 se encuentra la fruta platano\n",
      "En la posicion 2 se encuentra la fruta pera\n",
      "En la posicion 3 se encuentra la fruta mandarina\n",
      "En la posicion 4 se encuentra la fruta naranja\n"
     ]
    }
   ],
   "source": [
    "# enumerate -> indice y valor juntos\n",
    "\n",
    "frutas = [\"manzana\", \"platano\", \"pera\", \"mandarina\", \"naranja\"]\n",
    "\n",
    "for indice, fruta in enumerate(frutas):\n",
    "    print(f\"En la posicion {indice} se encuentra la fruta {fruta}\")"
   ]
  },
  {
   "cell_type": "code",
   "execution_count": 18,
   "id": "ce78867f",
   "metadata": {},
   "outputs": [
    {
     "name": "stdout",
     "output_type": "stream",
     "text": [
      "En la posicion 1 se encuentra la fruta manzana\n",
      "En la posicion 2 se encuentra la fruta platano\n",
      "En la posicion 3 se encuentra la fruta pera\n",
      "En la posicion 4 se encuentra la fruta mandarina\n",
      "En la posicion 5 se encuentra la fruta naranja\n"
     ]
    }
   ],
   "source": [
    "frutas = [\"manzana\", \"platano\", \"pera\", \"mandarina\", \"naranja\"]\n",
    "\n",
    "for i, fruta in enumerate(frutas, start = 1):\n",
    "     print(f\"En la posicion {i} se encuentra la fruta {fruta}\")"
   ]
  },
  {
   "cell_type": "code",
   "execution_count": 19,
   "id": "cbec38f3",
   "metadata": {},
   "outputs": [
    {
     "name": "stdout",
     "output_type": "stream",
     "text": [
      "0:P\n",
      "1:r\n",
      "2:o\n",
      "3:g\n",
      "4:r\n",
      "5:a\n",
      "6:m\n",
      "7:a\n",
      "8:c\n",
      "9:i\n",
      "10:ó\n",
      "11:n\n"
     ]
    }
   ],
   "source": [
    "palabra = \"Programación\"\n",
    "\n",
    "for indice, caracter in enumerate(palabra):\n",
    "    print(f\"{indice}:{caracter}\")"
   ]
  },
  {
   "cell_type": "code",
   "execution_count": null,
   "id": "a528c0a4",
   "metadata": {},
   "outputs": [
    {
     "name": "stdout",
     "output_type": "stream",
     "text": [
      "Jorge tiene de nota un 7\n",
      "Manuel tiene de nota un 5\n",
      "Gonzalo tiene de nota un 6\n",
      "Victor tiene de nota un 8\n"
     ]
    }
   ],
   "source": [
    "#zip -> recorre varios iterables a la par y genera tuplas emparejando ambas\n",
    "alumnos = [\"Jorge\", \"Manuel\", \"Gonzalo\", \"Victor\", \"Daniel\"]\n",
    "notas = [7,5,6,8]\n",
    "\n",
    "for alumno, nota in zip(alumnos, notas):\n",
    "    print(f\"{alumno} tiene de nota un {nota}\")\n"
   ]
  },
  {
   "cell_type": "code",
   "execution_count": 23,
   "id": "5a9fb2f0",
   "metadata": {},
   "outputs": [
    {
     "name": "stdout",
     "output_type": "stream",
     "text": [
      "{'Jorge': 7, 'Manuel': 5, 'Gonzalo': 6, 'Victor': 8}\n"
     ]
    }
   ],
   "source": [
    "alumnos = [\"Jorge\", \"Manuel\", \"Gonzalo\", \"Victor\", \"Daniel\"]\n",
    "notas = [7,5,6,8]\n",
    "boletin = dict(zip(alumnos, notas))\n",
    "print(boletin)"
   ]
  },
  {
   "cell_type": "code",
   "execution_count": 28,
   "id": "1cc87fa9",
   "metadata": {},
   "outputs": [
    {
     "name": "stdout",
     "output_type": "stream",
     "text": [
      "8.2\n"
     ]
    }
   ],
   "source": [
    "componentes = [\"Examen\", \"Proyecto\", \"Asistencia\"]\n",
    "pesos = [0.6, 0.3, 0.1]\n",
    "notas = [8, 9, 7]\n",
    "\n",
    "total = sum(peso * nota for peso, nota in zip(pesos, notas))\n",
    "print(total)\n"
   ]
  }
 ],
 "metadata": {
  "kernelspec": {
   "display_name": "Python 3",
   "language": "python",
   "name": "python3"
  },
  "language_info": {
   "codemirror_mode": {
    "name": "ipython",
    "version": 3
   },
   "file_extension": ".py",
   "mimetype": "text/x-python",
   "name": "python",
   "nbconvert_exporter": "python",
   "pygments_lexer": "ipython3",
   "version": "3.13.7"
  }
 },
 "nbformat": 4,
 "nbformat_minor": 5
}
