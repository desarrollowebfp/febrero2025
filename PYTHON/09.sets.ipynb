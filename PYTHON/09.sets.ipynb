{
 "cells": [
  {
   "cell_type": "markdown",
   "id": "c3afde11",
   "metadata": {},
   "source": [
    "## Sets\n"
   ]
  },
  {
   "cell_type": "code",
   "execution_count": 21,
   "id": "a0617357",
   "metadata": {},
   "outputs": [
    {
     "name": "stdout",
     "output_type": "stream",
     "text": [
      "{'Casablanca', 'Forrest Gump', 'Gladiator', 'Titanic', 'El Padrino'}\n",
      "{'Batman', 'Superman', 'Linterna Verde'}\n"
     ]
    }
   ],
   "source": [
    "# No admite duplicados -> Titanic\n",
    "clasicos = {\"Casablanca\", \"Titanic\", \"Forrest Gump\", \"El Padrino\", \"Gladiator\", \"Titanic\"}\n",
    "scifi = {\"Matrix\", \"Interstellar\", \"Inception\", \"Titanic\", \"Avatar\"}\n",
    "animacion = {\"Up\", \"Coco\", \"Toy Story\", \"Shrek\", \"Avatar\"}\n",
    "print(clasicos)\n",
    "\n",
    "# Crear colección mediante lista o tupla\n",
    "superheroes = (\"Batman\", \"Superman\", \"Batman\", \"Linterna Verde\")\n",
    "set_superheroes = set(superheroes)\n",
    "print(set_superheroes)"
   ]
  },
  {
   "cell_type": "code",
   "execution_count": 22,
   "id": "399ebbee",
   "metadata": {},
   "outputs": [
    {
     "name": "stdout",
     "output_type": "stream",
     "text": [
      "Peliculas clásicas: 5\n",
      "{'Casablanca', 'Forrest Gump', 'Gladiator', 'Titanic', 'El Padrino'}\n",
      "{'Casablanca', 'Forrest Gump', 'Gladiator', 'Titanic', 'El Padrino'}\n",
      "{'2001: Odisea en el espacio', 'Dune', 'Matrix', 'Titanic', 'Avatar', 'Interstellar', 'Inception'}\n",
      "Avatar\n",
      "{'Up', 'Toy Story', 'Coco', 'Shrek'}\n",
      "{'Up', 'Toy Story', 'Shrek'}\n"
     ]
    }
   ],
   "source": [
    "# len\n",
    "clasicos = {\"Casablanca\", \"Titanic\", \"Forrest Gump\", \"El Padrino\", \"Gladiator\", \"Titanic\"}\n",
    "print(\"Peliculas clásicas:\", len(clasicos))\n",
    "\n",
    "# copy \n",
    "copia_clasicos = clasicos.copy()\n",
    "print(copia_clasicos)\n",
    "\n",
    "# add\n",
    "clasicos.add(\"Titanic\")\n",
    "print(clasicos)\n",
    "\n",
    "# update\n",
    "nuevas_scifi = [\"2001: Odisea en el espacio\", \"Dune\"]\n",
    "scifi = {\"Matrix\", \"Interstellar\", \"Inception\", \"Titanic\", \"Avatar\"}\n",
    "scifi.update(nuevas_scifi)\n",
    "print(scifi)\n",
    "\n",
    "# pop\n",
    "animacion = {\"Up\", \"Coco\", \"Toy Story\", \"Shrek\", \"Avatar\"}\n",
    "print(animacion.pop())\n",
    "print(animacion)\n",
    "\n",
    "# remove\n",
    "animacion.remove(\"Coco\")\n",
    "print(animacion)\n",
    "\n",
    "# discard\n",
    "animacion.discard(\"Coco\")\n",
    "\n",
    "# clear\n",
    "# Elimina por completo el set y lo deja vacio"
   ]
  },
  {
   "cell_type": "code",
   "execution_count": 35,
   "id": "653e4021",
   "metadata": {},
   "outputs": [
    {
     "name": "stdout",
     "output_type": "stream",
     "text": [
      "{'Gladiator', 'El Padrino', 'Interstellar', 'Inception', 'Casablanca', 'Forrest Gump', 'Titanic', 'Avatar', 'Matrix'}\n",
      "{'Titanic', 'Matrix'}\n",
      "{'Casablanca', 'El Padrino', 'Forrest Gump', 'Gladiator'}\n",
      "{'Gladiator', 'El Padrino', 'Interstellar', 'Inception', 'Forrest Gump', 'Casablanca', 'Avatar'}\n",
      "¿Clasicos y animacion tienen peliculas unicas?: True\n",
      "True\n",
      "True\n"
     ]
    }
   ],
   "source": [
    "clasicos = {\"Casablanca\", \"Titanic\", \"Forrest Gump\", \"El Padrino\", \"Gladiator\", \"Titanic\", \"Matrix\"}\n",
    "scifi = {\"Matrix\", \"Interstellar\", \"Inception\", \"Titanic\", \"Avatar\"}\n",
    "animacion = {\"Up\", \"Coco\", \"Toy Story\", \"Shrek\", \"Avatar\"}\n",
    "\n",
    "# Union\n",
    "# clasicos_con_scifi = clasicos.union(scifi)\n",
    "clasicos_con_scifi = clasicos | scifi\n",
    "print(clasicos_con_scifi)\n",
    "\n",
    "# Intersection\n",
    "# clasicos_con_scifi_intersection = clasicos.intersection(scifi)\n",
    "clasicos_con_scifi_intersection = clasicos & scifi\n",
    "print(clasicos_con_scifi_intersection)\n",
    "\n",
    "# Difference\n",
    "# solo_clasicos = clasicos.difference(scifi)\n",
    "solo_clasicos = clasicos - scifi\n",
    "print(solo_clasicos)\n",
    "\n",
    "# Symmetric difference\n",
    "unicas = clasicos.symmetric_difference(scifi)\n",
    "unicas = clasicos ^ scifi\n",
    "print(unicas)\n",
    "\n",
    "# isdisjoint()\n",
    "clasicos = {\"Casablanca\", \"Titanic\", \"Forrest Gump\", \"El Padrino\", \"Gladiator\", \"Titanic\", \"Matrix\"}\n",
    "animacion = {\"Up\", \"Coco\", \"Toy Story\", \"Shrek\", \"Avatar\"}\n",
    "scifi = {\"Matrix\", \"Interstellar\", \"Inception\", \"Titanic\", \"Avatar\"}\n",
    "print(\"¿Clasicos y animacion tienen peliculas unicas?:\", clasicos.isdisjoint(animacion))\n",
    "\n",
    "# Comprobación dentro de conjuntos con conjuntos\n",
    "set_de_peliculas = {\"Casablanca\", \"Matrix\"}\n",
    "print(set_de_peliculas.issubset(clasicos))\n",
    "print(clasicos.issuperset(set_de_peliculas))\n"
   ]
  }
 ],
 "metadata": {
  "kernelspec": {
   "display_name": "Python 3",
   "language": "python",
   "name": "python3"
  },
  "language_info": {
   "codemirror_mode": {
    "name": "ipython",
    "version": 3
   },
   "file_extension": ".py",
   "mimetype": "text/x-python",
   "name": "python",
   "nbconvert_exporter": "python",
   "pygments_lexer": "ipython3",
   "version": "3.13.7"
  }
 },
 "nbformat": 4,
 "nbformat_minor": 5
}
